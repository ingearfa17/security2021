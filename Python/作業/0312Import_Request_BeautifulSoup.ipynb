{
  "nbformat": 4,
  "nbformat_minor": 0,
  "metadata": {
    "colab": {
      "name": "0312Import-Request-BeautifulSoup.ipynb",
      "provenance": [],
      "authorship_tag": "ABX9TyOTOP1vuU3eVLUrZDvaKVX7",
      "include_colab_link": true
    },
    "kernelspec": {
      "name": "python3",
      "display_name": "Python 3"
    }
  },
  "cells": [
    {
      "cell_type": "markdown",
      "metadata": {
        "id": "view-in-github",
        "colab_type": "text"
      },
      "source": [
        "<a href=\"https://colab.research.google.com/github/ingearfa17/security2021/blob/main/Python/%E4%BD%9C%E6%A5%AD/0312Import_Request_BeautifulSoup.ipynb\" target=\"_parent\"><img src=\"https://colab.research.google.com/assets/colab-badge.svg\" alt=\"Open In Colab\"/></a>"
      ]
    },
    {
      "cell_type": "code",
      "metadata": {
        "colab": {
          "base_uri": "https://localhost:8080/"
        },
        "id": "3TdoSI32Ztjg",
        "outputId": "2956187b-b8af-439d-83a1-571e00d1b856"
      },
      "source": [
        "import requests   \r\n",
        "from bs4 import BeautifulSoup\r\n",
        "\r\n",
        "resp = requests.get('https://jwlin.github.io/py-scraping-analysis-book/ch1/connect.html')\r\n",
        "soup = BeautifulSoup(resp.text, 'html.parser')\r\n",
        "print(soup.find('h1').text)"
      ],
      "execution_count": 1,
      "outputs": [
        {
          "output_type": "stream",
          "text": [
            "歡迎來到 Pycone 松果城市！\n"
          ],
          "name": "stdout"
        }
      ]
    },
    {
      "cell_type": "markdown",
      "metadata": {
        "id": "4DNazMGZaVqw"
      },
      "source": [
        "import requests ==> load requests module\r\n",
        "\r\n",
        "from bs4 import BeautifulSoup ==> load BeautifulSoup module\r\n",
        "\r\n",
        "requests.get('https://jwlin.github.io/py-scraping-analysis-book/ch1/connect.html')\r\n",
        "\r\n",
        "==> use get() method to download web page\r\n",
        "\r\n",
        "==> requests.get('url')\r\n",
        "\r\n",
        "==> get a response(resp)\r\n",
        "\r\n",
        "==> resp.text === html code\r\n",
        "\r\n",
        "解析html語法==> 使用BeautifulSoup\r\n",
        "\r\n",
        "格式 ==> BeautifulSoup(resp.text[下載的檔案], 'html.parser[解析器]')\r\n",
        "\r\n",
        "soup.find('h1') ==> 找出解析後的檔案你要的部分"
      ]
    }
  ]
}